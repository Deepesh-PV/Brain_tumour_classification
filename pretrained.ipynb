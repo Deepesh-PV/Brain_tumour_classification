{
 "cells": [
  {
   "cell_type": "code",
   "execution_count": 1,
   "id": "c42901c2-1f61-4d64-9897-ceeac888dc00",
   "metadata": {},
   "outputs": [],
   "source": [
    "import torch \n",
    "from torchvision import models,transforms,datasets\n",
    "from torch.utils.data import DataLoader\n",
    "import torch.nn as nn\n",
    "from torch.optim import Adam\n",
    "from tqdm import tqdm"
   ]
  },
  {
   "cell_type": "code",
   "execution_count": 2,
   "id": "2694d401-11a0-48ce-b89f-53d350ce8f2d",
   "metadata": {},
   "outputs": [
    {
     "name": "stderr",
     "output_type": "stream",
     "text": [
      "/home/deepesh/.local/lib/python3.10/site-packages/torchvision/models/_utils.py:208: UserWarning: The parameter 'pretrained' is deprecated since 0.13 and may be removed in the future, please use 'weights' instead.\n",
      "  warnings.warn(\n",
      "/home/deepesh/.local/lib/python3.10/site-packages/torchvision/models/_utils.py:223: UserWarning: Arguments other than a weight enum or `None` for 'weights' are deprecated since 0.13 and may be removed in the future. The current behavior is equivalent to passing `weights=ResNet50_Weights.IMAGENET1K_V1`. You can also use `weights=ResNet50_Weights.DEFAULT` to get the most up-to-date weights.\n",
      "  warnings.warn(msg)\n"
     ]
    }
   ],
   "source": [
    "resnet=models.resnet50(pretrained=True)"
   ]
  },
  {
   "cell_type": "code",
   "execution_count": 3,
   "id": "430e09b1-5fbc-4a09-b506-1a4fc16ede40",
   "metadata": {},
   "outputs": [],
   "source": [
    "for param in resnet.parameters():\n",
    "    param.requires_grad=False"
   ]
  },
  {
   "cell_type": "code",
   "execution_count": 4,
   "id": "6f9bd3cf-65d6-46fe-a48c-16f2e0d928e4",
   "metadata": {},
   "outputs": [
    {
     "data": {
      "text/plain": [
       "2048"
      ]
     },
     "execution_count": 4,
     "metadata": {},
     "output_type": "execute_result"
    }
   ],
   "source": [
    "num_features=resnet.fc.in_features\n",
    "num_features"
   ]
  },
  {
   "cell_type": "code",
   "execution_count": 5,
   "id": "3be759a9-4a13-40ff-b168-74d17b896332",
   "metadata": {},
   "outputs": [],
   "source": [
    "resnet.fc=nn.Sequential(\n",
    "    nn.Linear(2048,512),\n",
    "    nn.ReLU(inplace=True),\n",
    "    nn.Dropout(p=0.4),\n",
    "    nn.Linear(512,4)\n",
    ")"
   ]
  },
  {
   "cell_type": "code",
   "execution_count": 6,
   "id": "c1584aca-a0d3-47fb-a7a6-6c928e992093",
   "metadata": {},
   "outputs": [],
   "source": [
    "resnet=resnet.to(\"cuda\")"
   ]
  },
  {
   "cell_type": "code",
   "execution_count": 7,
   "id": "0f08e680-6e24-4db1-903e-0e6eabec3692",
   "metadata": {},
   "outputs": [
    {
     "data": {
      "text/plain": [
       "torch.Size([1, 4])"
      ]
     },
     "execution_count": 7,
     "metadata": {},
     "output_type": "execute_result"
    }
   ],
   "source": [
    "x=torch.rand(1,3,244,244).to(\"cuda\")\n",
    "out=resnet(x)\n",
    "out.shape"
   ]
  },
  {
   "cell_type": "code",
   "execution_count": 8,
   "id": "37ab51a0-c60c-4be7-8667-5e13fb0844b0",
   "metadata": {},
   "outputs": [],
   "source": [
    "criterion = nn.CrossEntropyLoss()\n",
    "optimizer = torch.optim.Adam(resnet.fc.parameters(), lr=1e-3)"
   ]
  },
  {
   "cell_type": "code",
   "execution_count": 9,
   "id": "5d7c69eb-fb79-4039-8c8d-e1aedb3ac289",
   "metadata": {},
   "outputs": [],
   "source": [
    "transformation=transforms.Compose([transforms.Resize(size=(244,244)),transforms.ToTensor()])"
   ]
  },
  {
   "cell_type": "code",
   "execution_count": 10,
   "id": "92f6748e-308d-4496-a5c3-5f3955318c44",
   "metadata": {},
   "outputs": [],
   "source": [
    "train_data=datasets.ImageFolder(root='/home/deepesh/intern_tumour/brain_tumour/Tumour/train',transform=transformation)\n",
    "val_data=datasets.ImageFolder(root='/home/deepesh/intern_tumour/brain_tumour/Tumour/valid',transform=transformation)\n",
    "test_data=datasets.ImageFolder(root='/home/deepesh/intern_tumour/brain_tumour/Tumour/test',transform=transformation)"
   ]
  },
  {
   "cell_type": "code",
   "execution_count": 11,
   "id": "661508c1-2d4d-43d1-a3ee-1158137b938b",
   "metadata": {},
   "outputs": [],
   "source": [
    "train_loader=DataLoader(dataset=train_data,batch_size=32,shuffle=True)\n",
    "val_loader=DataLoader(dataset=val_data,batch_size=32,shuffle=False)\n",
    "test_loader=DataLoader(dataset=test_data,batch_size=32,shuffle=False)"
   ]
  },
  {
   "cell_type": "code",
   "execution_count": 12,
   "id": "5c32b5d0-4d37-4421-87c6-ee368dfbb4ea",
   "metadata": {},
   "outputs": [
    {
     "name": "stderr",
     "output_type": "stream",
     "text": [
      " 10%|████▍                                       | 1/10 [00:17<02:34, 17.14s/it]"
     ]
    },
    {
     "name": "stdout",
     "output_type": "stream",
     "text": [
      "epoch:0 trainloss:83.2774429321289 val_accuracy:80.67729083665338 val_loss:8.657512664794922\n"
     ]
    },
    {
     "name": "stderr",
     "output_type": "stream",
     "text": [
      " 20%|████████▊                                   | 2/10 [00:33<02:11, 16.45s/it]"
     ]
    },
    {
     "name": "stdout",
     "output_type": "stream",
     "text": [
      "epoch:1 trainloss:52.90311050415039 val_accuracy:86.05577689243027 val_loss:6.084044933319092\n"
     ]
    },
    {
     "name": "stderr",
     "output_type": "stream",
     "text": [
      " 30%|█████████████▏                              | 3/10 [00:49<01:53, 16.23s/it]"
     ]
    },
    {
     "name": "stdout",
     "output_type": "stream",
     "text": [
      "epoch:2 trainloss:41.92090606689453 val_accuracy:89.2430278884462 val_loss:5.351101398468018\n"
     ]
    },
    {
     "name": "stderr",
     "output_type": "stream",
     "text": [
      " 40%|█████████████████▌                          | 4/10 [01:05<01:36, 16.14s/it]"
     ]
    },
    {
     "name": "stdout",
     "output_type": "stream",
     "text": [
      "epoch:3 trainloss:33.787052154541016 val_accuracy:88.44621513944223 val_loss:4.992843151092529\n"
     ]
    },
    {
     "name": "stderr",
     "output_type": "stream",
     "text": [
      " 50%|██████████████████████                      | 5/10 [01:21<01:20, 16.12s/it]"
     ]
    },
    {
     "name": "stdout",
     "output_type": "stream",
     "text": [
      "epoch:4 trainloss:35.77688217163086 val_accuracy:88.84462151394422 val_loss:4.822647571563721\n"
     ]
    },
    {
     "name": "stderr",
     "output_type": "stream",
     "text": [
      " 60%|██████████████████████████▍                 | 6/10 [01:37<01:04, 16.12s/it]"
     ]
    },
    {
     "name": "stdout",
     "output_type": "stream",
     "text": [
      "epoch:5 trainloss:36.052886962890625 val_accuracy:83.06772908366534 val_loss:7.398009300231934\n"
     ]
    },
    {
     "name": "stderr",
     "output_type": "stream",
     "text": [
      " 70%|██████████████████████████████▊             | 7/10 [01:53<00:48, 16.06s/it]"
     ]
    },
    {
     "name": "stdout",
     "output_type": "stream",
     "text": [
      "epoch:6 trainloss:34.162879943847656 val_accuracy:89.44223107569721 val_loss:4.7895331382751465\n"
     ]
    },
    {
     "name": "stderr",
     "output_type": "stream",
     "text": [
      " 80%|███████████████████████████████████▏        | 8/10 [02:09<00:32, 16.10s/it]"
     ]
    },
    {
     "name": "stdout",
     "output_type": "stream",
     "text": [
      "epoch:7 trainloss:29.774110794067383 val_accuracy:89.04382470119522 val_loss:4.413508415222168\n"
     ]
    },
    {
     "name": "stderr",
     "output_type": "stream",
     "text": [
      " 90%|███████████████████████████████████████▌    | 9/10 [02:25<00:16, 16.24s/it]"
     ]
    },
    {
     "name": "stdout",
     "output_type": "stream",
     "text": [
      "epoch:8 trainloss:26.126724243164062 val_accuracy:89.2430278884462 val_loss:4.4195661544799805\n"
     ]
    },
    {
     "name": "stderr",
     "output_type": "stream",
     "text": [
      "100%|███████████████████████████████████████████| 10/10 [02:41<00:00, 16.20s/it]"
     ]
    },
    {
     "name": "stdout",
     "output_type": "stream",
     "text": [
      "epoch:9 trainloss:25.828338623046875 val_accuracy:87.45019920318725 val_loss:5.343942165374756\n"
     ]
    },
    {
     "name": "stderr",
     "output_type": "stream",
     "text": [
      "\n"
     ]
    }
   ],
   "source": [
    "epochs=10\n",
    "for epoch in tqdm(range(epochs)):\n",
    "    torch.cuda.empty_cache()\n",
    "    train_loss=0\n",
    "    val_loss=0\n",
    "    val_correct=0\n",
    "    val_total=0\n",
    "    resnet.train()\n",
    "    for imgs,labels in train_loader:\n",
    "        imgs=imgs.to(\"cuda\")\n",
    "        labels=labels.to(\"cuda\")\n",
    "        out=resnet(imgs)\n",
    "        loss=criterion(out,labels)\n",
    "        optimizer.zero_grad()\n",
    "        loss.backward()\n",
    "        optimizer.step()\n",
    "        train_loss+=loss\n",
    "    with torch.no_grad():\n",
    "        resnet.eval()\n",
    "        for imgs,labels in val_loader:\n",
    "            imgs=imgs.to(\"cuda\")\n",
    "            labels=labels.to(\"cuda\")\n",
    "            out=resnet(imgs)\n",
    "            loss=criterion(out,labels)\n",
    "            pred=torch.argmax(out,1)\n",
    "            val_correct+=(pred==labels).sum().item()\n",
    "            val_total+=labels.size(0)\n",
    "            val_loss+=loss\n",
    "    val_accuracy=100*(val_correct/val_total)\n",
    "    train_loss=100*(train_loss/len(train_loader))\n",
    "    print(f\"epoch:{epoch} trainloss:{train_loss} val_accuracy:{val_accuracy} val_loss:{val_loss}\")\n",
    "    \n",
    "        "
   ]
  },
  {
   "cell_type": "code",
   "execution_count": 13,
   "id": "fe094395-888a-4469-884a-bdd003dcc02b",
   "metadata": {},
   "outputs": [],
   "source": [
    "def test():\n",
    "    val_correct=0\n",
    "    val_total=0\n",
    "    for img,labels in test_loader:\n",
    "        img=img.to(\"cuda\")\n",
    "        labels=labels.to(\"cuda\")\n",
    "        out=resnet(img)\n",
    "        pred=torch.argmax(out,1)\n",
    "        val_correct+=(pred==labels).sum().item()\n",
    "        val_total+=labels.size(0)\n",
    "    accuracy=100*(val_correct/val_total)\n",
    "    print(f\"the accuracy:{accuracy}\")\n",
    "        "
   ]
  },
  {
   "cell_type": "code",
   "execution_count": 14,
   "id": "9808eff9-bee0-4215-8c2f-74a43315b479",
   "metadata": {},
   "outputs": [
    {
     "name": "stdout",
     "output_type": "stream",
     "text": [
      "the accuracy:89.43089430894308\n"
     ]
    }
   ],
   "source": [
    "test()"
   ]
  },
  {
   "cell_type": "code",
   "execution_count": 15,
   "id": "31c43547-e26d-4b55-b5dc-0f697f7f81bf",
   "metadata": {},
   "outputs": [],
   "source": [
    "torch.save(resnet,\"resnet-192.pth\")"
   ]
  },
  {
   "cell_type": "code",
   "execution_count": null,
   "id": "d551cbe6-ab6f-4330-992f-c070a8246f81",
   "metadata": {},
   "outputs": [],
   "source": []
  },
  {
   "cell_type": "code",
   "execution_count": null,
   "id": "0febd3b2-cad8-4cec-881a-c43cda36b106",
   "metadata": {},
   "outputs": [],
   "source": []
  },
  {
   "cell_type": "code",
   "execution_count": null,
   "id": "b8112b8a-9170-4516-aa2e-287a341ed2ba",
   "metadata": {},
   "outputs": [],
   "source": []
  }
 ],
 "metadata": {
  "kernelspec": {
   "display_name": "Python 3 (ipykernel)",
   "language": "python",
   "name": "python3"
  },
  "language_info": {
   "codemirror_mode": {
    "name": "ipython",
    "version": 3
   },
   "file_extension": ".py",
   "mimetype": "text/x-python",
   "name": "python",
   "nbconvert_exporter": "python",
   "pygments_lexer": "ipython3",
   "version": "3.10.12"
  }
 },
 "nbformat": 4,
 "nbformat_minor": 5
}
