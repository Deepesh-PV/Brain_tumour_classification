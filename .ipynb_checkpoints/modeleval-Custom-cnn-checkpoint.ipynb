{
 "cells": [
  {
   "cell_type": "code",
   "execution_count": 11,
   "id": "5f18bf3a-e4c6-4de7-ae59-bc5af5856a83",
   "metadata": {},
   "outputs": [],
   "source": [
    "import torch \n",
    "from torchvision import models,transforms,datasets\n",
    "from sklearn.metrics import precision_score, recall_score, f1_score, confusion_matrix\n",
    "import numpy as np\n",
    "from torch.utils.data import DataLoader\n",
    "import torch.nn as nn"
   ]
  },
  {
   "cell_type": "code",
   "execution_count": 12,
   "id": "71a7d8c0-3e21-46ea-a340-ad3bb5d26e8d",
   "metadata": {},
   "outputs": [],
   "source": [
    "class custom_model(nn.Module):\n",
    "    def __init__(self,device):\n",
    "        super().__init__()\n",
    "        self.block1=nn.Sequential(\n",
    "            nn.Conv2d(in_channels=3,out_channels=32,kernel_size=3,stride=1,device=device),\n",
    "            nn.ReLU(inplace=True),\n",
    "            nn.BatchNorm2d(32).to(device),\n",
    "            nn.MaxPool2d(kernel_size=2,stride=1)\n",
    "        )\n",
    "        self.block2=nn.Sequential(\n",
    "            nn.Conv2d(in_channels=32,out_channels=64,kernel_size=3,stride=2,device=device),\n",
    "            nn.ReLU(inplace=True),\n",
    "            nn.BatchNorm2d(64).to(device),\n",
    "            nn.MaxPool2d(kernel_size=2,stride=2)\n",
    "        )\n",
    "        self.block3=nn.Sequential(\n",
    "            nn.Conv2d(in_channels=64,out_channels=64,kernel_size=3,stride=1,device=device),\n",
    "            nn.ReLU(inplace=True),\n",
    "            nn.BatchNorm2d(64).to(device),\n",
    "            nn.MaxPool2d(kernel_size=2,stride=2)\n",
    "        )\n",
    "        self.pool = nn.AdaptiveAvgPool2d((2, 4))\n",
    "        self.classifier=nn.Sequential(\n",
    "            nn.Flatten(),\n",
    "            nn.Linear(512,4,device=device)\n",
    "         )\n",
    "    def forward(self,x):\n",
    "        x=self.block1(x)\n",
    "        x=self.block2(x)\n",
    "        x=self.block3(x)\n",
    "        x=self.pool(x)\n",
    "        x=self.classifier(x)\n",
    "        return x"
   ]
  },
  {
   "cell_type": "code",
   "execution_count": 13,
   "id": "39d295cf-3c3e-44fe-84f5-951c0cb5baeb",
   "metadata": {},
   "outputs": [
    {
     "data": {
      "text/plain": [
       "<All keys matched successfully>"
      ]
     },
     "execution_count": 13,
     "metadata": {},
     "output_type": "execute_result"
    }
   ],
   "source": [
    "custom_cnn=custom_model(device=\"cuda\")\n",
    "custom_cnn.load_state_dict(torch.load(\"model-86.pth\"))"
   ]
  },
  {
   "cell_type": "code",
   "execution_count": 14,
   "id": "d44c347d-4e16-4da3-807e-67140a75273e",
   "metadata": {},
   "outputs": [],
   "source": [
    "transformation=transforms.Compose([transforms.Resize(size=(244,244)),transforms.ToTensor()])"
   ]
  },
  {
   "cell_type": "code",
   "execution_count": 15,
   "id": "917bab68-d0d1-4afa-9659-41adc3472880",
   "metadata": {},
   "outputs": [],
   "source": [
    "test_data=datasets.ImageFolder(root='/home/deepesh/intern_tumour/brain_tumour/Tumour/test',transform=transformation)\n",
    "test_loader=DataLoader(dataset=test_data,batch_size=32,shuffle=False)"
   ]
  },
  {
   "cell_type": "code",
   "execution_count": null,
   "id": "73aa47ab-a01e-4d35-a75d-b1efb5eb09df",
   "metadata": {},
   "outputs": [],
   "source": []
  },
  {
   "cell_type": "code",
   "execution_count": 16,
   "id": "d17d9918-e7fd-41de-9aed-23b15a513c9a",
   "metadata": {},
   "outputs": [],
   "source": [
    "def test(model,dataloader,device):\n",
    "    val_correct=0\n",
    "    val_total=0\n",
    "    model.eval()\n",
    "    model.to(device)\n",
    "    with torch.no_grad():\n",
    "        for img,labels in dataloader:\n",
    "            img=img.to(device)\n",
    "            labels=labels.to(device)\n",
    "            out=model(img)\n",
    "            pred=torch.argmax(out,1)\n",
    "            val_correct+=(pred==labels).sum().item()\n",
    "            val_total+=labels.size(0)\n",
    "    accuracy=100*(val_correct/val_total)\n",
    "    print(f\"the accuracy:{accuracy}\")\n",
    "        "
   ]
  },
  {
   "cell_type": "code",
   "execution_count": 17,
   "id": "8913a806-515f-4a93-a2ec-d02fa03e99b0",
   "metadata": {},
   "outputs": [],
   "source": [
    "def evaluate_classification(model, dataloader, device):\n",
    "    model.eval()\n",
    "    y_true = []\n",
    "    y_pred = []\n",
    "\n",
    "    with torch.no_grad():\n",
    "        for images, labels in dataloader:\n",
    "            images, labels = images.to(device), labels.to(device)\n",
    "\n",
    "            outputs = model(images)\n",
    "            _, preds = torch.max(outputs, 1)\n",
    "\n",
    "            y_true.extend(labels.cpu().numpy())\n",
    "            y_pred.extend(preds.cpu().numpy())\n",
    "\n",
    "    # Convert to numpy arrays\n",
    "    y_true = np.array(y_true)\n",
    "    y_pred = np.array(y_pred)\n",
    "\n",
    "    # Compute metrics\n",
    "    precision = precision_score(y_true, y_pred, average='weighted')  # Use 'macro' for equal class weight\n",
    "    recall = recall_score(y_true, y_pred, average='weighted')\n",
    "    f1 = f1_score(y_true, y_pred, average='weighted')\n",
    "    cm = confusion_matrix(y_true, y_pred)\n",
    "\n",
    "    print(\"Precision:\", precision)\n",
    "    print(\"Recall:\", recall)\n",
    "    print(\"F1 Score:\", f1)\n",
    "    print(\"Confusion Matrix:\\n\", cm)"
   ]
  },
  {
   "cell_type": "code",
   "execution_count": 18,
   "id": "bd42c6a0-3b2a-4850-ab71-4a22bb194f1f",
   "metadata": {},
   "outputs": [
    {
     "name": "stdout",
     "output_type": "stream",
     "text": [
      "the accuracy:86.1788617886179\n"
     ]
    }
   ],
   "source": [
    "test(model=custom_cnn,dataloader=test_loader,device=\"cuda\")"
   ]
  },
  {
   "cell_type": "code",
   "execution_count": 19,
   "id": "44dc28f3-3ebc-446c-86bb-0370e45196b9",
   "metadata": {},
   "outputs": [
    {
     "name": "stdout",
     "output_type": "stream",
     "text": [
      "Precision: 0.8608399413982784\n",
      "Recall: 0.8617886178861789\n",
      "F1 Score: 0.8598269830020363\n",
      "Confusion Matrix:\n",
      " [[76  3  1  0]\n",
      " [ 6 45  8  4]\n",
      " [ 1  4 44  0]\n",
      " [ 3  4  0 47]]\n"
     ]
    }
   ],
   "source": [
    "evaluate_classification(model=custom_cnn,dataloader=test_loader,device=\"cuda\")"
   ]
  },
  {
   "cell_type": "code",
   "execution_count": null,
   "id": "64e4ad9d-2097-42e7-8f8b-0f1b440244dd",
   "metadata": {},
   "outputs": [],
   "source": []
  }
 ],
 "metadata": {
  "kernelspec": {
   "display_name": "Python 3 (ipykernel)",
   "language": "python",
   "name": "python3"
  },
  "language_info": {
   "codemirror_mode": {
    "name": "ipython",
    "version": 3
   },
   "file_extension": ".py",
   "mimetype": "text/x-python",
   "name": "python",
   "nbconvert_exporter": "python",
   "pygments_lexer": "ipython3",
   "version": "3.10.12"
  }
 },
 "nbformat": 4,
 "nbformat_minor": 5
}
