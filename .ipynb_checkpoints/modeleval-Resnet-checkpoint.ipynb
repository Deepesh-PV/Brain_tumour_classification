{
 "cells": [
  {
   "cell_type": "code",
   "execution_count": 28,
   "id": "5f18bf3a-e4c6-4de7-ae59-bc5af5856a83",
   "metadata": {},
   "outputs": [],
   "source": [
    "import torch \n",
    "from torchvision import models,transforms,datasets\n",
    "from sklearn.metrics import precision_score, recall_score, f1_score, confusion_matrix\n",
    "import numpy as np\n",
    "from torch.utils.data import DataLoader\n",
    "import torch.nn as nn"
   ]
  },
  {
   "cell_type": "code",
   "execution_count": 2,
   "id": "71a7d8c0-3e21-46ea-a340-ad3bb5d26e8d",
   "metadata": {},
   "outputs": [
    {
     "name": "stderr",
     "output_type": "stream",
     "text": [
      "/home/deepesh/.local/lib/python3.10/site-packages/torchvision/models/_utils.py:208: UserWarning: The parameter 'pretrained' is deprecated since 0.13 and may be removed in the future, please use 'weights' instead.\n",
      "  warnings.warn(\n",
      "/home/deepesh/.local/lib/python3.10/site-packages/torchvision/models/_utils.py:223: UserWarning: Arguments other than a weight enum or `None` for 'weights' are deprecated since 0.13 and may be removed in the future. The current behavior is equivalent to passing `weights=ResNet50_Weights.IMAGENET1K_V1`. You can also use `weights=ResNet50_Weights.DEFAULT` to get the most up-to-date weights.\n",
      "  warnings.warn(msg)\n"
     ]
    }
   ],
   "source": [
    "resnet=models.resnet50(pretrained=True)\n",
    "resnet.fc=nn.Sequential(\n",
    "    nn.Linear(2048,512),\n",
    "    nn.ReLU(inplace=True),\n",
    "    nn.Dropout(p=0.4),\n",
    "    nn.Linear(512,4)\n",
    ")"
   ]
  },
  {
   "cell_type": "code",
   "execution_count": 21,
   "id": "39d295cf-3c3e-44fe-84f5-951c0cb5baeb",
   "metadata": {},
   "outputs": [
    {
     "data": {
      "text/plain": [
       "<All keys matched successfully>"
      ]
     },
     "execution_count": 21,
     "metadata": {},
     "output_type": "execute_result"
    }
   ],
   "source": [
    "resnet.load_state_dict(torch.load(\"resnet-92.pth\"))\n"
   ]
  },
  {
   "cell_type": "code",
   "execution_count": 12,
   "id": "d44c347d-4e16-4da3-807e-67140a75273e",
   "metadata": {},
   "outputs": [],
   "source": [
    "transformation=transforms.Compose([transforms.Resize(size=(244,244)),transforms.ToTensor()])"
   ]
  },
  {
   "cell_type": "code",
   "execution_count": 13,
   "id": "917bab68-d0d1-4afa-9659-41adc3472880",
   "metadata": {},
   "outputs": [],
   "source": [
    "test_data=datasets.ImageFolder(root='/home/deepesh/intern_tumour/brain_tumour/Tumour/test',transform=transformation)\n",
    "test_loader=DataLoader(dataset=test_data,batch_size=32,shuffle=False)"
   ]
  },
  {
   "cell_type": "code",
   "execution_count": 14,
   "id": "73aa47ab-a01e-4d35-a75d-b1efb5eb09df",
   "metadata": {},
   "outputs": [],
   "source": [
    "for param in resnet.parameters():\n",
    "    param.requires_grad=False"
   ]
  },
  {
   "cell_type": "code",
   "execution_count": 25,
   "id": "d17d9918-e7fd-41de-9aed-23b15a513c9a",
   "metadata": {},
   "outputs": [],
   "source": [
    "def test(model,dataloader,device):\n",
    "    val_correct=0\n",
    "    val_total=0\n",
    "    model.eval()\n",
    "    model.to(device)\n",
    "    with torch.no_grad():\n",
    "        for img,labels in dataloader:\n",
    "            img=img.to(device)\n",
    "            labels=labels.to(device)\n",
    "            out=model(img)\n",
    "            pred=torch.argmax(out,1)\n",
    "            val_correct+=(pred==labels).sum().item()\n",
    "            val_total+=labels.size(0)\n",
    "    accuracy=100*(val_correct/val_total)\n",
    "    print(f\"the accuracy:{accuracy}\")\n",
    "        "
   ]
  },
  {
   "cell_type": "code",
   "execution_count": 23,
   "id": "8913a806-515f-4a93-a2ec-d02fa03e99b0",
   "metadata": {},
   "outputs": [],
   "source": [
    "def evaluate_classification(model, dataloader, device):\n",
    "    model.eval()\n",
    "    y_true = []\n",
    "    y_pred = []\n",
    "\n",
    "    with torch.no_grad():\n",
    "        for images, labels in dataloader:\n",
    "            images, labels = images.to(device), labels.to(device)\n",
    "\n",
    "            outputs = model(images)\n",
    "            _, preds = torch.max(outputs, 1)\n",
    "\n",
    "            y_true.extend(labels.cpu().numpy())\n",
    "            y_pred.extend(preds.cpu().numpy())\n",
    "\n",
    "    # Convert to numpy arrays\n",
    "    y_true = np.array(y_true)\n",
    "    y_pred = np.array(y_pred)\n",
    "\n",
    "    # Compute metrics\n",
    "    precision = precision_score(y_true, y_pred, average='weighted')  # Use 'macro' for equal class weight\n",
    "    recall = recall_score(y_true, y_pred, average='weighted')\n",
    "    f1 = f1_score(y_true, y_pred, average='weighted')\n",
    "    cm = confusion_matrix(y_true, y_pred)\n",
    "\n",
    "    print(\"Precision:\", precision)\n",
    "    print(\"Recall:\", recall)\n",
    "    print(\"F1 Score:\", f1)\n",
    "    print(\"Confusion Matrix:\\n\", cm)"
   ]
  },
  {
   "cell_type": "code",
   "execution_count": 26,
   "id": "bd42c6a0-3b2a-4850-ab71-4a22bb194f1f",
   "metadata": {},
   "outputs": [
    {
     "name": "stdout",
     "output_type": "stream",
     "text": [
      "the accuracy:92.27642276422763\n"
     ]
    }
   ],
   "source": [
    "test(model=resnet,dataloader=test_loader,device=\"cuda\")"
   ]
  },
  {
   "cell_type": "code",
   "execution_count": 29,
   "id": "44dc28f3-3ebc-446c-86bb-0370e45196b9",
   "metadata": {},
   "outputs": [
    {
     "name": "stdout",
     "output_type": "stream",
     "text": [
      "Precision: 0.922382771324504\n",
      "Recall: 0.9227642276422764\n",
      "F1 Score: 0.9217983936141118\n",
      "Confusion Matrix:\n",
      " [[77  3  0  0]\n",
      " [ 3 52  5  3]\n",
      " [ 2  1 45  1]\n",
      " [ 0  1  0 53]]\n"
     ]
    }
   ],
   "source": [
    "evaluate_classification(model=resnet,dataloader=test_loader,device=\"cuda\")"
   ]
  },
  {
   "cell_type": "code",
   "execution_count": null,
   "id": "64e4ad9d-2097-42e7-8f8b-0f1b440244dd",
   "metadata": {},
   "outputs": [],
   "source": []
  }
 ],
 "metadata": {
  "kernelspec": {
   "display_name": "Python 3 (ipykernel)",
   "language": "python",
   "name": "python3"
  },
  "language_info": {
   "codemirror_mode": {
    "name": "ipython",
    "version": 3
   },
   "file_extension": ".py",
   "mimetype": "text/x-python",
   "name": "python",
   "nbconvert_exporter": "python",
   "pygments_lexer": "ipython3",
   "version": "3.10.12"
  }
 },
 "nbformat": 4,
 "nbformat_minor": 5
}
