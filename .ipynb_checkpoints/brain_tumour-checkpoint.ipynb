{
 "cells": [
  {
   "cell_type": "code",
   "execution_count": 272,
   "id": "aee792cc-b096-4693-bbca-5c5ab2b1d5ec",
   "metadata": {},
   "outputs": [],
   "source": [
    "import torch\n",
    "import math\n",
    "from torchvision import datasets,transforms\n",
    "from torch.utils.data import DataLoader\n",
    "from torch.optim import Adam\n",
    "from tqdm import tqdm\n",
    "from torch.optim.lr_scheduler import ReduceLROnPlateau\n",
    "import matplotlib.pyplot as plt\n",
    "from IPython.display import clear_output"
   ]
  },
  {
   "cell_type": "code",
   "execution_count": 273,
   "id": "55695fa9-c5db-4af0-815e-1724439cfdf0",
   "metadata": {},
   "outputs": [],
   "source": [
    "import torch.nn as nn\n",
    "\n",
    "\n",
    "class custom_vgg(nn.Module):\n",
    "    def __init__(self,device):\n",
    "        super().__init__()\n",
    "        self.block1=nn.Sequential(\n",
    "            nn.Conv2d(in_channels=3,out_channels=64,kernel_size=3,padding=1,stride=2,device=device),\n",
    "            nn.BatchNorm2d(64).to(\"cuda\"),\n",
    "            nn.ReLU(inplace=True),\n",
    "            nn.MaxPool2d(kernel_size=3,stride=2,padding=1)\n",
    "        )\n",
    "        self.block2=nn.Sequential(\n",
    "            nn.Conv2d(in_channels=64,out_channels=128,kernel_size=3,stride=2,padding=1,device=device),\n",
    "            nn.BatchNorm2d(128).to(\"cuda\"),\n",
    "            nn.ReLU(inplace=True),\n",
    "            nn.MaxPool2d(kernel_size=3,stride=2,padding=1)\n",
    "        )\n",
    "        self.block3=nn.Sequential(\n",
    "            nn.Conv2d(in_channels=128,out_channels=256,stride=2,padding=1,kernel_size=3,device=device),\n",
    "            nn.BatchNorm2d(256).to(\"cuda\"),\n",
    "            nn.ReLU(inplace=True),\n",
    "            nn.Conv2d(in_channels=256,out_channels=256,stride=2,padding=1,kernel_size=3,device=device),\n",
    "            nn.BatchNorm2d(256).to(\"cuda\"),\n",
    "            nn.ReLU(inplace=True),\n",
    "            nn.MaxPool2d(kernel_size=3,stride=2,padding=1)\n",
    "        \n",
    "        )\n",
    "        self.classifier=nn.Sequential(\n",
    "            nn.Flatten(),\n",
    "            nn.Linear(in_features=1024,out_features=521,device=device),\n",
    "            nn.ReLU(inplace=True),\n",
    "            nn.Dropout(p=0.5),\n",
    "            nn.Linear(in_features=521,out_features=4,device=device)\n",
    "            \n",
    "        )\n",
    "    def forward(self,x):\n",
    "        x=self.block1(x)\n",
    "        x=self.block2(x)\n",
    "        x=self.block3(x)\n",
    "        x=self.classifier(x)\n",
    "        return x\n"
   ]
  },
  {
   "cell_type": "code",
   "execution_count": 274,
   "id": "3d855719-f252-4e87-ae76-8f6768e213b9",
   "metadata": {},
   "outputs": [],
   "source": [
    "model=custom_vgg(device=\"cuda\")"
   ]
  },
  {
   "cell_type": "code",
   "execution_count": 275,
   "id": "c837902a-b6f6-4efc-8735-6477a1e24eea",
   "metadata": {},
   "outputs": [
    {
     "data": {
      "text/plain": [
       "torch.Size([1, 4])"
      ]
     },
     "execution_count": 275,
     "metadata": {},
     "output_type": "execute_result"
    }
   ],
   "source": [
    "x=torch.randn(1,3,224,224).to(\"cuda\")\n",
    "out=model(x)\n",
    "out.shape"
   ]
  },
  {
   "cell_type": "code",
   "execution_count": 276,
   "id": "56af7861-948c-47e4-ace6-8908b5240d5b",
   "metadata": {},
   "outputs": [
    {
     "name": "stdout",
     "output_type": "stream",
     "text": [
      "Wed Jul 23 20:16:46 2025       \n",
      "+-----------------------------------------------------------------------------------------+\n",
      "| NVIDIA-SMI 555.42.06              Driver Version: 555.42.06      CUDA Version: 12.5     |\n",
      "|-----------------------------------------+------------------------+----------------------+\n",
      "| GPU  Name                 Persistence-M | Bus-Id          Disp.A | Volatile Uncorr. ECC |\n",
      "| Fan  Temp   Perf          Pwr:Usage/Cap |           Memory-Usage | GPU-Util  Compute M. |\n",
      "|                                         |                        |               MIG M. |\n",
      "|=========================================+========================+======================|\n",
      "|   0  NVIDIA GeForce RTX 2050        Off |   00000000:01:00.0 Off |                  N/A |\n",
      "| N/A   41C    P0              4W /   50W |    1341MiB /   4096MiB |      0%      Default |\n",
      "|                                         |                        |                  N/A |\n",
      "+-----------------------------------------+------------------------+----------------------+\n",
      "                                                                                         \n",
      "+-----------------------------------------------------------------------------------------+\n",
      "| Processes:                                                                              |\n",
      "|  GPU   GI   CI        PID   Type   Process name                              GPU Memory |\n",
      "|        ID   ID                                                               Usage      |\n",
      "|=========================================================================================|\n",
      "|    0   N/A  N/A      2208      G   /usr/bin/gnome-shell                            1MiB |\n",
      "|    0   N/A  N/A      4096      C   /usr/bin/python3                              322MiB |\n",
      "|    0   N/A  N/A      5593      C   /usr/bin/python3                              998MiB |\n",
      "+-----------------------------------------------------------------------------------------+\n"
     ]
    }
   ],
   "source": [
    "!nvidia-smi"
   ]
  },
  {
   "cell_type": "code",
   "execution_count": 277,
   "id": "27509d5f-1dfb-46b7-ab52-00440b78ea5e",
   "metadata": {},
   "outputs": [],
   "source": [
    "transformation=transforms.Compose([transforms.Resize(size=(244,244)),transforms.ToTensor(),transforms.RandomHorizontalFlip(p=0.5),transforms.RandomInvert(p=0.5)])\n",
    "transformation_2=transforms.Compose([transforms.Resize(size=(244,244)),transforms.ToTensor()])"
   ]
  },
  {
   "cell_type": "code",
   "execution_count": 278,
   "id": "a5ae4b55-9aa0-4f7f-9044-1e65f608be84",
   "metadata": {},
   "outputs": [],
   "source": [
    "train_data=datasets.ImageFolder(root='/home/deepesh/intern_tumour/brain_tumour/Tumour/train',transform=transformation)\n",
    "val_data=datasets.ImageFolder(root='/home/deepesh/intern_tumour/brain_tumour/Tumour/valid',transform=transformation_2)\n",
    "test_data=datasets.ImageFolder(root='/home/deepesh/intern_tumour/brain_tumour/Tumour/test',transform=transformation_2)"
   ]
  },
  {
   "cell_type": "code",
   "execution_count": 279,
   "id": "32283efb-8a95-4c4a-9300-bea510f71587",
   "metadata": {},
   "outputs": [],
   "source": [
    "train_loader=DataLoader(dataset=train_data,batch_size=32,shuffle=True)\n",
    "val_loader=DataLoader(dataset=val_data,batch_size=32,shuffle=True)\n",
    "test_loader=DataLoader(dataset=test_data,batch_size=32,shuffle=True)"
   ]
  },
  {
   "cell_type": "code",
   "execution_count": 280,
   "id": "6b7c3f03-a89b-4ea2-8eea-b663913a16c8",
   "metadata": {},
   "outputs": [],
   "source": [
    "optimizer=Adam(params=model.parameters(),lr=1e-4,weight_decay=1e-4)\n",
    "lossfn=nn.CrossEntropyLoss()\n",
    "scheduler=ReduceLROnPlateau(optimizer,mode='min',patience=2,factor=0.7)"
   ]
  },
  {
   "cell_type": "code",
   "execution_count": 281,
   "id": "2ec2ced4-aab9-4164-8b26-74335663f5bb",
   "metadata": {},
   "outputs": [],
   "source": [
    "def epoch_train():\n",
    "    running_loss=0\n",
    "    torch.cuda.empty_cache()\n",
    "    model.train()\n",
    "    for img,classes in (train_loader):\n",
    "        img=img.to(\"cuda\")\n",
    "        classes=classes.to(\"cuda\")\n",
    "        out=model(img)\n",
    "        optimizer.zero_grad()\n",
    "        loss=lossfn(out,classes)\n",
    "        loss.backward()\n",
    "        optimizer.step()\n",
    "        running_loss+=loss\n",
    "        break\n",
    "    return running_loss/len(train_loader)\n",
    "    "
   ]
  },
  {
   "cell_type": "code",
   "execution_count": 282,
   "id": "0ba0d4dc-cb6d-4b81-bfc3-efb8e4d97734",
   "metadata": {},
   "outputs": [
    {
     "name": "stdout",
     "output_type": "stream",
     "text": [
      "Wed Jul 23 20:16:52 2025       \n",
      "+-----------------------------------------------------------------------------------------+\n",
      "| NVIDIA-SMI 555.42.06              Driver Version: 555.42.06      CUDA Version: 12.5     |\n",
      "|-----------------------------------------+------------------------+----------------------+\n",
      "| GPU  Name                 Persistence-M | Bus-Id          Disp.A | Volatile Uncorr. ECC |\n",
      "| Fan  Temp   Perf          Pwr:Usage/Cap |           Memory-Usage | GPU-Util  Compute M. |\n",
      "|                                         |                        |               MIG M. |\n",
      "|=========================================+========================+======================|\n",
      "|   0  NVIDIA GeForce RTX 2050        Off |   00000000:01:00.0 Off |                  N/A |\n",
      "| N/A   42C    P0              4W /   50W |    1341MiB /   4096MiB |      0%      Default |\n",
      "|                                         |                        |                  N/A |\n",
      "+-----------------------------------------+------------------------+----------------------+\n",
      "                                                                                         \n",
      "+-----------------------------------------------------------------------------------------+\n",
      "| Processes:                                                                              |\n",
      "|  GPU   GI   CI        PID   Type   Process name                              GPU Memory |\n",
      "|        ID   ID                                                               Usage      |\n",
      "|=========================================================================================|\n",
      "|    0   N/A  N/A      2208      G   /usr/bin/gnome-shell                            1MiB |\n",
      "|    0   N/A  N/A      4096      C   /usr/bin/python3                              322MiB |\n",
      "|    0   N/A  N/A      5593      C   /usr/bin/python3                              998MiB |\n",
      "+-----------------------------------------------------------------------------------------+\n"
     ]
    }
   ],
   "source": [
    "!nvidia-smi"
   ]
  },
  {
   "cell_type": "code",
   "execution_count": 284,
   "id": "8cbd7eac-94b5-4d17-ba7b-25d2aa7ce4cb",
   "metadata": {},
   "outputs": [
    {
     "data": {
      "image/png": "[encoded data removed]",
      "text/plain": [
       "<Figure size 640x480 with 1 Axes>"
      ]
     },
     "metadata": {},
     "output_type": "display_data"
    }
   ],
   "source": [
    "epochs=30\n",
    "loss=0\n",
    "val_loss=1.5\n",
    "train_losses=[]\n",
    "val_losses=[]\n",
    "for epoch in range(epochs):\n",
    "    loss=epoch_train()\n",
    "    model.eval()\n",
    "    temp_loss=0\n",
    "    with torch.no_grad():\n",
    "        for img,lab in (val_loader):\n",
    "            img=img.to(\"cuda\")\n",
    "            lab=lab.to(\"cuda\")\n",
    "            out=model(img)\n",
    "            temp=lossfn(out,lab)\n",
    "            temp_loss=temp+temp_loss\n",
    "        temp_loss=temp_loss/len(val_loader)\n",
    "        val_losses.append(temp_loss.detach().cpu().clone())\n",
    "        train_losses.append(loss.detach().cpu().clone())\n",
    "        scheduler.step(temp_loss)\n",
    "        if(temp_loss<val_loss):\n",
    "            val_loss=temp_loss\n",
    "            torch.save(model.state_dict(),f\"best_model-{val_loss:.2f}.pth\")\n",
    "            print(\"best model saved\")\n",
    "        \n",
    "    clear_output(wait=True)\n",
    "    plt.plot(train_losses, label='Train Loss')\n",
    "    plt.plot(val_losses, label='Val Loss')\n",
    "    plt.xlabel('Epoch')\n",
    "    plt.ylabel('Loss')\n",
    "    plt.legend()\n",
    "    plt.grid(True)\n",
    "    plt.title('Training and Validation Loss')\n",
    "    plt.show()"
   ]
  },
  {
   "cell_type": "code",
   "execution_count": 285,
   "id": "359b4055-84bb-43c8-9cfb-2d8a64f3fa0b",
   "metadata": {},
   "outputs": [],
   "source": [
    "\n",
    "model_name=\"/home/deepesh/intern_tumour/best_model-1.36.pth\"\n",
    "def test(model_name):\n",
    "    test_model=custom_vgg(device=\"cuda\")\n",
    "    test_model.load_state_dict(torch.load(model_name))\n",
    "    test_model.eval()\n",
    "    correct=0\n",
    "    total=0\n",
    "    for img,lab in test_loader:\n",
    "        img=img.to(\"cuda\")\n",
    "        lab=lab.to(\"cuda\")\n",
    "        out=model(img)\n",
    "        pred=torch.argmax(out.data,dim=1)\n",
    "        total+=lab.size(0)\n",
    "        correct+=(pred==lab).sum().item()\n",
    "    accuracy=100*correct/total\n",
    "    print(f\"Accuracy:{accuracy}\")\n",
    "        "
   ]
  },
  {
   "cell_type": "code",
   "execution_count": 286,
   "id": "9c67e901-d9f0-4264-8b1b-2d7d71749a96",
   "metadata": {},
   "outputs": [
    {
     "name": "stdout",
     "output_type": "stream",
     "text": [
      "Accuracy:32.520325203252035\n"
     ]
    }
   ],
   "source": [
    "test(model_name)"
   ]
  },
  {
   "cell_type": "code",
   "execution_count": null,
   "id": "8a0eec91-870c-4e88-a2c3-9620158408e9",
   "metadata": {},
   "outputs": [],
   "source": []
  },
  {
   "cell_type": "code",
   "execution_count": null,
   "id": "0991dc60-f331-4782-b3b5-7347f74078d4",
   "metadata": {},
   "outputs": [],
   "source": []
  },
  {
   "cell_type": "code",
   "execution_count": null,
   "id": "75a54025-9925-49d5-9c0b-bba430ac6517",
   "metadata": {},
   "outputs": [],
   "source": []
  },
  {
   "cell_type": "code",
   "execution_count": null,
   "id": "2b212086-bff1-4e8c-b10f-844d42746b29",
   "metadata": {},
   "outputs": [],
   "source": []
  },
  {
   "cell_type": "code",
   "execution_count": null,
   "id": "d530b15e-a8d9-437f-932d-b2e2dcf72004",
   "metadata": {},
   "outputs": [],
   "source": []
  },
  {
   "cell_type": "code",
   "execution_count": null,
   "id": "ae871a7e-4637-4982-8e76-c5e00d7cd7eb",
   "metadata": {},
   "outputs": [],
   "source": []
  },
  {
   "cell_type": "code",
   "execution_count": null,
   "id": "b5aa3c90-5cdb-42a0-a851-aceda77059c0",
   "metadata": {},
   "outputs": [],
   "source": []
  }
 ],
 "metadata": {
  "kernelspec": {
   "display_name": "Python 3 (ipykernel)",
   "language": "python",
   "name": "python3"
  },
  "language_info": {
   "codemirror_mode": {
    "name": "ipython",
    "version": 3
   },
   "file_extension": ".py",
   "mimetype": "text/x-python",
   "name": "python",
   "nbconvert_exporter": "python",
   "pygments_lexer": "ipython3",
   "version": "3.10.12"
  }
 },
 "nbformat": 4,
 "nbformat_minor": 5
}
